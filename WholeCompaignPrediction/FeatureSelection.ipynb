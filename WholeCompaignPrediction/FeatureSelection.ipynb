{
 "cells": [
  {
   "cell_type": "code",
   "execution_count": 27,
   "id": "f3b72f63",
   "metadata": {},
   "outputs": [
    {
     "data": {
      "text/html": [
       "<div>\n",
       "<style scoped>\n",
       "    .dataframe tbody tr th:only-of-type {\n",
       "        vertical-align: middle;\n",
       "    }\n",
       "\n",
       "    .dataframe tbody tr th {\n",
       "        vertical-align: top;\n",
       "    }\n",
       "\n",
       "    .dataframe thead th {\n",
       "        text-align: right;\n",
       "    }\n",
       "</style>\n",
       "<table border=\"1\" class=\"dataframe\">\n",
       "  <thead>\n",
       "    <tr style=\"text-align: right;\">\n",
       "      <th></th>\n",
       "      <th>Day</th>\n",
       "      <th>Campaign status</th>\n",
       "      <th>Campaign</th>\n",
       "      <th>Budget name</th>\n",
       "      <th>Currency code</th>\n",
       "      <th>Budget</th>\n",
       "      <th>Budget type</th>\n",
       "      <th>Status</th>\n",
       "      <th>Status reasons</th>\n",
       "      <th>Clicks</th>\n",
       "      <th>CTR</th>\n",
       "      <th>Avg. CPC</th>\n",
       "      <th>Impr.</th>\n",
       "      <th>Avg. cost</th>\n",
       "      <th>Cost</th>\n",
       "      <th>Conv. value</th>\n",
       "      <th>Campaign type</th>\n",
       "      <th>Bid strategy type</th>\n",
       "      <th>Campaign group</th>\n",
       "    </tr>\n",
       "  </thead>\n",
       "  <tbody>\n",
       "    <tr>\n",
       "      <th>0</th>\n",
       "      <td>2023-11-18</td>\n",
       "      <td>Paused</td>\n",
       "      <td>New Arrivals 05/10/2023</td>\n",
       "      <td>--</td>\n",
       "      <td>GBP</td>\n",
       "      <td>3.0</td>\n",
       "      <td>Daily</td>\n",
       "      <td>Paused</td>\n",
       "      <td>campaign paused; unknown</td>\n",
       "      <td>1</td>\n",
       "      <td>0.62%</td>\n",
       "      <td>0.16</td>\n",
       "      <td>162</td>\n",
       "      <td>0.16</td>\n",
       "      <td>0.16</td>\n",
       "      <td>0.00</td>\n",
       "      <td>Shopping</td>\n",
       "      <td>Target ROAS</td>\n",
       "      <td>--</td>\n",
       "    </tr>\n",
       "    <tr>\n",
       "      <th>1</th>\n",
       "      <td>2023-11-13</td>\n",
       "      <td>Paused</td>\n",
       "      <td>New Arrivals 05/10/2023</td>\n",
       "      <td>--</td>\n",
       "      <td>GBP</td>\n",
       "      <td>3.0</td>\n",
       "      <td>Daily</td>\n",
       "      <td>Paused</td>\n",
       "      <td>campaign paused; unknown</td>\n",
       "      <td>3</td>\n",
       "      <td>1.15%</td>\n",
       "      <td>0.18</td>\n",
       "      <td>261</td>\n",
       "      <td>0.18</td>\n",
       "      <td>0.53</td>\n",
       "      <td>0.00</td>\n",
       "      <td>Shopping</td>\n",
       "      <td>Target ROAS</td>\n",
       "      <td>--</td>\n",
       "    </tr>\n",
       "    <tr>\n",
       "      <th>2</th>\n",
       "      <td>2024-01-02</td>\n",
       "      <td>Paused</td>\n",
       "      <td>Display-Campaign Group 01</td>\n",
       "      <td>--</td>\n",
       "      <td>GBP</td>\n",
       "      <td>5.0</td>\n",
       "      <td>Daily</td>\n",
       "      <td>Paused</td>\n",
       "      <td>campaign paused; unknown</td>\n",
       "      <td>0</td>\n",
       "      <td>--</td>\n",
       "      <td>0.00</td>\n",
       "      <td>0</td>\n",
       "      <td>0.00</td>\n",
       "      <td>0.00</td>\n",
       "      <td>0.00</td>\n",
       "      <td>Display</td>\n",
       "      <td>Target ROAS</td>\n",
       "      <td>--</td>\n",
       "    </tr>\n",
       "    <tr>\n",
       "      <th>3</th>\n",
       "      <td>2024-01-07</td>\n",
       "      <td>Paused</td>\n",
       "      <td>Display-Campaign Group 01</td>\n",
       "      <td>--</td>\n",
       "      <td>GBP</td>\n",
       "      <td>5.0</td>\n",
       "      <td>Daily</td>\n",
       "      <td>Paused</td>\n",
       "      <td>campaign paused; unknown</td>\n",
       "      <td>0</td>\n",
       "      <td>--</td>\n",
       "      <td>0.00</td>\n",
       "      <td>0</td>\n",
       "      <td>0.00</td>\n",
       "      <td>0.00</td>\n",
       "      <td>0.00</td>\n",
       "      <td>Display</td>\n",
       "      <td>Target ROAS</td>\n",
       "      <td>--</td>\n",
       "    </tr>\n",
       "    <tr>\n",
       "      <th>4</th>\n",
       "      <td>2023-10-10</td>\n",
       "      <td>Paused</td>\n",
       "      <td>New Arrivals 05/10/2023</td>\n",
       "      <td>--</td>\n",
       "      <td>GBP</td>\n",
       "      <td>3.0</td>\n",
       "      <td>Daily</td>\n",
       "      <td>Paused</td>\n",
       "      <td>campaign paused; unknown</td>\n",
       "      <td>17</td>\n",
       "      <td>0.72%</td>\n",
       "      <td>0.23</td>\n",
       "      <td>2373</td>\n",
       "      <td>0.23</td>\n",
       "      <td>3.83</td>\n",
       "      <td>118.46</td>\n",
       "      <td>Shopping</td>\n",
       "      <td>Target ROAS</td>\n",
       "      <td>--</td>\n",
       "    </tr>\n",
       "  </tbody>\n",
       "</table>\n",
       "</div>"
      ],
      "text/plain": [
       "          Day Campaign status                   Campaign Budget name  \\\n",
       "0  2023-11-18          Paused    New Arrivals 05/10/2023          --   \n",
       "1  2023-11-13          Paused    New Arrivals 05/10/2023          --   \n",
       "2  2024-01-02          Paused  Display-Campaign Group 01          --   \n",
       "3  2024-01-07          Paused  Display-Campaign Group 01          --   \n",
       "4  2023-10-10          Paused    New Arrivals 05/10/2023          --   \n",
       "\n",
       "  Currency code  Budget Budget type  Status            Status reasons  Clicks  \\\n",
       "0           GBP     3.0       Daily  Paused  campaign paused; unknown       1   \n",
       "1           GBP     3.0       Daily  Paused  campaign paused; unknown       3   \n",
       "2           GBP     5.0       Daily  Paused  campaign paused; unknown       0   \n",
       "3           GBP     5.0       Daily  Paused  campaign paused; unknown       0   \n",
       "4           GBP     3.0       Daily  Paused  campaign paused; unknown      17   \n",
       "\n",
       "     CTR  Avg. CPC  Impr.  Avg. cost  Cost  Conv. value Campaign type  \\\n",
       "0  0.62%      0.16    162       0.16  0.16         0.00      Shopping   \n",
       "1  1.15%      0.18    261       0.18  0.53         0.00      Shopping   \n",
       "2     --      0.00      0       0.00  0.00         0.00       Display   \n",
       "3     --      0.00      0       0.00  0.00         0.00       Display   \n",
       "4  0.72%      0.23   2373       0.23  3.83       118.46      Shopping   \n",
       "\n",
       "  Bid strategy type Campaign group  \n",
       "0       Target ROAS             --  \n",
       "1       Target ROAS             --  \n",
       "2       Target ROAS             --  \n",
       "3       Target ROAS             --  \n",
       "4       Target ROAS             --  "
      ]
     },
     "execution_count": 27,
     "metadata": {},
     "output_type": "execute_result"
    }
   ],
   "source": [
    "import pandas as pd\n",
    "import numpy as np\n",
    "import matplotlib.pyplot as plt\n",
    "df = pd.read_csv('Data.csv')\n",
    "df.head()"
   ]
  },
  {
   "cell_type": "code",
   "execution_count": 28,
   "id": "f20ee014-663a-45ee-91d1-5e57083c99c9",
   "metadata": {},
   "outputs": [
    {
     "data": {
      "text/html": [
       "<div>\n",
       "<style scoped>\n",
       "    .dataframe tbody tr th:only-of-type {\n",
       "        vertical-align: middle;\n",
       "    }\n",
       "\n",
       "    .dataframe tbody tr th {\n",
       "        vertical-align: top;\n",
       "    }\n",
       "\n",
       "    .dataframe thead th {\n",
       "        text-align: right;\n",
       "    }\n",
       "</style>\n",
       "<table border=\"1\" class=\"dataframe\">\n",
       "  <thead>\n",
       "    <tr style=\"text-align: right;\">\n",
       "      <th></th>\n",
       "      <th>Day</th>\n",
       "      <th>Campaign status</th>\n",
       "      <th>Campaign</th>\n",
       "      <th>Budget name</th>\n",
       "      <th>Currency code</th>\n",
       "      <th>Budget</th>\n",
       "      <th>Budget type</th>\n",
       "      <th>Status</th>\n",
       "      <th>Status reasons</th>\n",
       "      <th>Clicks</th>\n",
       "      <th>CTR</th>\n",
       "      <th>Avg. CPC</th>\n",
       "      <th>Impr.</th>\n",
       "      <th>Avg. cost</th>\n",
       "      <th>Cost</th>\n",
       "      <th>Conv. value</th>\n",
       "      <th>Campaign type</th>\n",
       "      <th>Bid strategy type</th>\n",
       "      <th>Campaign group</th>\n",
       "    </tr>\n",
       "  </thead>\n",
       "  <tbody>\n",
       "    <tr>\n",
       "      <th>26137</th>\n",
       "      <td>2023-05-15</td>\n",
       "      <td>Enabled</td>\n",
       "      <td>Shoptimised_Performance Max-Thars</td>\n",
       "      <td>--</td>\n",
       "      <td>GBP</td>\n",
       "      <td>5.0</td>\n",
       "      <td>Daily</td>\n",
       "      <td>Eligible (Learning)</td>\n",
       "      <td>bidding strategy learning; unknown</td>\n",
       "      <td>0</td>\n",
       "      <td>--</td>\n",
       "      <td>0.0</td>\n",
       "      <td>0</td>\n",
       "      <td>0.0</td>\n",
       "      <td>0.0</td>\n",
       "      <td>0.0</td>\n",
       "      <td>Performance Max</td>\n",
       "      <td>Maximize Conversion Value</td>\n",
       "      <td>--</td>\n",
       "    </tr>\n",
       "    <tr>\n",
       "      <th>63686</th>\n",
       "      <td>2023-05-15</td>\n",
       "      <td>Enabled</td>\n",
       "      <td>Google css-S_opt-All- P_MAX -5/3/2024~susain</td>\n",
       "      <td>--</td>\n",
       "      <td>GBP</td>\n",
       "      <td>2.0</td>\n",
       "      <td>Daily</td>\n",
       "      <td>Eligible</td>\n",
       "      <td>unknown</td>\n",
       "      <td>0</td>\n",
       "      <td>--</td>\n",
       "      <td>0.0</td>\n",
       "      <td>0</td>\n",
       "      <td>0.0</td>\n",
       "      <td>0.0</td>\n",
       "      <td>0.0</td>\n",
       "      <td>Performance Max</td>\n",
       "      <td>Maximize Conversion Value</td>\n",
       "      <td>Google-CSS- All pro-SEP</td>\n",
       "    </tr>\n",
       "    <tr>\n",
       "      <th>19789</th>\n",
       "      <td>2023-05-15</td>\n",
       "      <td>Enabled</td>\n",
       "      <td>P_MAX - FR Merchant</td>\n",
       "      <td>--</td>\n",
       "      <td>GBP</td>\n",
       "      <td>2.0</td>\n",
       "      <td>Daily</td>\n",
       "      <td>Eligible</td>\n",
       "      <td>unknown</td>\n",
       "      <td>0</td>\n",
       "      <td>--</td>\n",
       "      <td>0.0</td>\n",
       "      <td>0</td>\n",
       "      <td>0.0</td>\n",
       "      <td>0.0</td>\n",
       "      <td>0.0</td>\n",
       "      <td>Performance Max</td>\n",
       "      <td>Maximize Conversion Value</td>\n",
       "      <td>--</td>\n",
       "    </tr>\n",
       "    <tr>\n",
       "      <th>63503</th>\n",
       "      <td>2023-05-15</td>\n",
       "      <td>Removed</td>\n",
       "      <td>Performance Max-24 Transformer Product hero</td>\n",
       "      <td>--</td>\n",
       "      <td>GBP</td>\n",
       "      <td>8.0</td>\n",
       "      <td>Daily</td>\n",
       "      <td>Removed</td>\n",
       "      <td>campaign removed</td>\n",
       "      <td>0</td>\n",
       "      <td>--</td>\n",
       "      <td>0.0</td>\n",
       "      <td>0</td>\n",
       "      <td>0.0</td>\n",
       "      <td>0.0</td>\n",
       "      <td>0.0</td>\n",
       "      <td>Performance Max</td>\n",
       "      <td>Maximize Conversion Value</td>\n",
       "      <td>--</td>\n",
       "    </tr>\n",
       "    <tr>\n",
       "      <th>32070</th>\n",
       "      <td>2023-05-15</td>\n",
       "      <td>Removed</td>\n",
       "      <td>GOOGLE CSS- manuval CPC TO ROAS- Susain 23/02/24</td>\n",
       "      <td>--</td>\n",
       "      <td>GBP</td>\n",
       "      <td>15.0</td>\n",
       "      <td>Daily</td>\n",
       "      <td>Removed</td>\n",
       "      <td>campaign removed; unknown</td>\n",
       "      <td>0</td>\n",
       "      <td>--</td>\n",
       "      <td>0.0</td>\n",
       "      <td>0</td>\n",
       "      <td>0.0</td>\n",
       "      <td>0.0</td>\n",
       "      <td>0.0</td>\n",
       "      <td>Shopping</td>\n",
       "      <td>Target ROAS</td>\n",
       "      <td>--</td>\n",
       "    </tr>\n",
       "  </tbody>\n",
       "</table>\n",
       "</div>"
      ],
      "text/plain": [
       "              Day Campaign status  \\\n",
       "26137  2023-05-15         Enabled   \n",
       "63686  2023-05-15         Enabled   \n",
       "19789  2023-05-15         Enabled   \n",
       "63503  2023-05-15         Removed   \n",
       "32070  2023-05-15         Removed   \n",
       "\n",
       "                                               Campaign Budget name  \\\n",
       "26137                 Shoptimised_Performance Max-Thars          --   \n",
       "63686      Google css-S_opt-All- P_MAX -5/3/2024~susain          --   \n",
       "19789                               P_MAX - FR Merchant          --   \n",
       "63503       Performance Max-24 Transformer Product hero          --   \n",
       "32070  GOOGLE CSS- manuval CPC TO ROAS- Susain 23/02/24          --   \n",
       "\n",
       "      Currency code  Budget Budget type               Status  \\\n",
       "26137           GBP     5.0       Daily  Eligible (Learning)   \n",
       "63686           GBP     2.0       Daily             Eligible   \n",
       "19789           GBP     2.0       Daily             Eligible   \n",
       "63503           GBP     8.0       Daily              Removed   \n",
       "32070           GBP    15.0       Daily              Removed   \n",
       "\n",
       "                           Status reasons  Clicks CTR  Avg. CPC  Impr.  \\\n",
       "26137  bidding strategy learning; unknown       0  --       0.0      0   \n",
       "63686                             unknown       0  --       0.0      0   \n",
       "19789                             unknown       0  --       0.0      0   \n",
       "63503                    campaign removed       0  --       0.0      0   \n",
       "32070           campaign removed; unknown       0  --       0.0      0   \n",
       "\n",
       "       Avg. cost  Cost  Conv. value    Campaign type  \\\n",
       "26137        0.0   0.0          0.0  Performance Max   \n",
       "63686        0.0   0.0          0.0  Performance Max   \n",
       "19789        0.0   0.0          0.0  Performance Max   \n",
       "63503        0.0   0.0          0.0  Performance Max   \n",
       "32070        0.0   0.0          0.0         Shopping   \n",
       "\n",
       "               Bid strategy type           Campaign group  \n",
       "26137  Maximize Conversion Value                       --  \n",
       "63686  Maximize Conversion Value  Google-CSS- All pro-SEP  \n",
       "19789  Maximize Conversion Value                       --  \n",
       "63503  Maximize Conversion Value                       --  \n",
       "32070                Target ROAS                       --  "
      ]
     },
     "execution_count": 28,
     "metadata": {},
     "output_type": "execute_result"
    }
   ],
   "source": [
    "newData=df.sort_values(by=['Day'], ascending=True)\n",
    "newData.head()"
   ]
  },
  {
   "cell_type": "code",
   "execution_count": 29,
   "id": "7eb785eb-e157-467d-8afb-faf387f6d030",
   "metadata": {},
   "outputs": [],
   "source": [
    "processingData=newData.drop(['Day','Currency code','Budget type','Budget name','Campaign','Campaign group','Campaign status','Status reasons'], axis='columns', inplace=False)\n"
   ]
  },
  {
   "cell_type": "code",
   "execution_count": 30,
   "id": "9c30fbca-4baf-4b93-9143-b1e6e30e1b46",
   "metadata": {},
   "outputs": [
    {
     "data": {
      "text/plain": [
       "84185"
      ]
     },
     "execution_count": 30,
     "metadata": {},
     "output_type": "execute_result"
    }
   ],
   "source": [
    "processingData.duplicated().sum()"
   ]
  },
  {
   "cell_type": "code",
   "execution_count": 31,
   "id": "c206a028-a783-4ca5-a460-4029745eb181",
   "metadata": {},
   "outputs": [],
   "source": [
    "processingData=processingData.drop_duplicates()"
   ]
  },
  {
   "cell_type": "code",
   "execution_count": 32,
   "id": "4130ade8-3173-45c9-9f0d-e73ab2acc213",
   "metadata": {},
   "outputs": [],
   "source": [
    "#as type is a categorical need to transform the categorical features into numerical\n",
    "from sklearn.preprocessing import LabelEncoder\n",
    "\n",
    "labelencoder = LabelEncoder()\n",
    "\n",
    "# Fit the encoder on your training data (e.g., 'my_column')\n",
    "labelencoder.fit(processingData['Campaign type'])\n",
    "\n",
    "processingData['encoded_campaign_type'] = labelencoder.transform(processingData['Campaign type'])"
   ]
  },
  {
   "cell_type": "code",
   "execution_count": 33,
   "id": "e102dc7b-8cae-4cc8-8a11-f00451083b3a",
   "metadata": {},
   "outputs": [],
   "source": [
    "le = LabelEncoder()\n",
    "\n",
    "# Fit the encoder on your training data (e.g., 'my_column')\n",
    "le.fit(processingData['Bid strategy type'])\n",
    "\n",
    "processingData['encoded_bid_strategy_type'] =le.transform(processingData['Bid strategy type'])"
   ]
  },
  {
   "cell_type": "code",
   "execution_count": 34,
   "id": "75768123-75e4-40ea-8ed7-86a456e5ccf4",
   "metadata": {},
   "outputs": [],
   "source": [
    "le = LabelEncoder()\n",
    "\n",
    "# Fit the encoder on your training data (e.g., 'my_column')\n",
    "le.fit(processingData['Status'])\n",
    "\n",
    "processingData['encoded_Status'] =le.transform(processingData['Status'])"
   ]
  },
  {
   "cell_type": "code",
   "execution_count": 77,
   "id": "c0bc71df-c47d-4e37-b828-ea48425bfb08",
   "metadata": {},
   "outputs": [],
   "source": [
    "cleanedData=processingData.drop(['Campaign type','Bid strategy type','Status'], axis='columns', inplace=False)"
   ]
  },
  {
   "cell_type": "code",
   "execution_count": 78,
   "id": "1c5b427b",
   "metadata": {},
   "outputs": [
    {
     "name": "stdout",
     "output_type": "stream",
     "text": [
      "Shape of the data :  (5730, 10)\n",
      "shape of the target :  (5730,)\n"
     ]
    }
   ],
   "source": [
    "data=cleanedData.drop('Conv. value',axis='columns',inplace=False)\n",
    "target=cleanedData['Conv. value'] # median value\n",
    "names=cleanedData.columns\n",
    "print(\"Shape of the data : \",data.shape)\n",
    "print(\"shape of the target : \",target.shape)"
   ]
  },
  {
   "cell_type": "code",
   "execution_count": 79,
   "id": "dea970d6-2f24-4608-aa0a-7c129d15812a",
   "metadata": {
    "scrolled": true
   },
   "outputs": [
    {
     "data": {
      "text/html": [
       "<div>\n",
       "<style scoped>\n",
       "    .dataframe tbody tr th:only-of-type {\n",
       "        vertical-align: middle;\n",
       "    }\n",
       "\n",
       "    .dataframe tbody tr th {\n",
       "        vertical-align: top;\n",
       "    }\n",
       "\n",
       "    .dataframe thead th {\n",
       "        text-align: right;\n",
       "    }\n",
       "</style>\n",
       "<table border=\"1\" class=\"dataframe\">\n",
       "  <thead>\n",
       "    <tr style=\"text-align: right;\">\n",
       "      <th></th>\n",
       "      <th>Budget</th>\n",
       "      <th>Clicks</th>\n",
       "      <th>CTR</th>\n",
       "      <th>Avg. CPC</th>\n",
       "      <th>Impr.</th>\n",
       "      <th>Avg. cost</th>\n",
       "      <th>Cost</th>\n",
       "      <th>Conv. value</th>\n",
       "      <th>encoded_campaign_type</th>\n",
       "      <th>encoded_bid_strategy_type</th>\n",
       "      <th>encoded_Status</th>\n",
       "    </tr>\n",
       "  </thead>\n",
       "  <tbody>\n",
       "    <tr>\n",
       "      <th>26137</th>\n",
       "      <td>5.0</td>\n",
       "      <td>0</td>\n",
       "      <td>--</td>\n",
       "      <td>0.00</td>\n",
       "      <td>0</td>\n",
       "      <td>0.00</td>\n",
       "      <td>0.00</td>\n",
       "      <td>0.0</td>\n",
       "      <td>2</td>\n",
       "      <td>2</td>\n",
       "      <td>1</td>\n",
       "    </tr>\n",
       "    <tr>\n",
       "      <th>63686</th>\n",
       "      <td>2.0</td>\n",
       "      <td>0</td>\n",
       "      <td>--</td>\n",
       "      <td>0.00</td>\n",
       "      <td>0</td>\n",
       "      <td>0.00</td>\n",
       "      <td>0.00</td>\n",
       "      <td>0.0</td>\n",
       "      <td>2</td>\n",
       "      <td>2</td>\n",
       "      <td>0</td>\n",
       "    </tr>\n",
       "    <tr>\n",
       "      <th>63503</th>\n",
       "      <td>8.0</td>\n",
       "      <td>0</td>\n",
       "      <td>--</td>\n",
       "      <td>0.00</td>\n",
       "      <td>0</td>\n",
       "      <td>0.00</td>\n",
       "      <td>0.00</td>\n",
       "      <td>0.0</td>\n",
       "      <td>2</td>\n",
       "      <td>2</td>\n",
       "      <td>5</td>\n",
       "    </tr>\n",
       "    <tr>\n",
       "      <th>32070</th>\n",
       "      <td>15.0</td>\n",
       "      <td>0</td>\n",
       "      <td>--</td>\n",
       "      <td>0.00</td>\n",
       "      <td>0</td>\n",
       "      <td>0.00</td>\n",
       "      <td>0.00</td>\n",
       "      <td>0.0</td>\n",
       "      <td>4</td>\n",
       "      <td>8</td>\n",
       "      <td>5</td>\n",
       "    </tr>\n",
       "    <tr>\n",
       "      <th>31905</th>\n",
       "      <td>20.0</td>\n",
       "      <td>0</td>\n",
       "      <td>--</td>\n",
       "      <td>0.00</td>\n",
       "      <td>0</td>\n",
       "      <td>0.00</td>\n",
       "      <td>0.00</td>\n",
       "      <td>0.0</td>\n",
       "      <td>2</td>\n",
       "      <td>2</td>\n",
       "      <td>4</td>\n",
       "    </tr>\n",
       "    <tr>\n",
       "      <th>...</th>\n",
       "      <td>...</td>\n",
       "      <td>...</td>\n",
       "      <td>...</td>\n",
       "      <td>...</td>\n",
       "      <td>...</td>\n",
       "      <td>...</td>\n",
       "      <td>...</td>\n",
       "      <td>...</td>\n",
       "      <td>...</td>\n",
       "      <td>...</td>\n",
       "      <td>...</td>\n",
       "    </tr>\n",
       "    <tr>\n",
       "      <th>65863</th>\n",
       "      <td>15.0</td>\n",
       "      <td>6</td>\n",
       "      <td>0.74%</td>\n",
       "      <td>0.58</td>\n",
       "      <td>815</td>\n",
       "      <td>0.58</td>\n",
       "      <td>3.50</td>\n",
       "      <td>0.0</td>\n",
       "      <td>2</td>\n",
       "      <td>2</td>\n",
       "      <td>0</td>\n",
       "    </tr>\n",
       "    <tr>\n",
       "      <th>3169</th>\n",
       "      <td>20.0</td>\n",
       "      <td>3</td>\n",
       "      <td>0.17%</td>\n",
       "      <td>0.34</td>\n",
       "      <td>1717</td>\n",
       "      <td>0.34</td>\n",
       "      <td>1.03</td>\n",
       "      <td>0.0</td>\n",
       "      <td>2</td>\n",
       "      <td>2</td>\n",
       "      <td>2</td>\n",
       "    </tr>\n",
       "    <tr>\n",
       "      <th>89427</th>\n",
       "      <td>2.0</td>\n",
       "      <td>1</td>\n",
       "      <td>33.33%</td>\n",
       "      <td>0.07</td>\n",
       "      <td>3</td>\n",
       "      <td>0.07</td>\n",
       "      <td>0.07</td>\n",
       "      <td>0.0</td>\n",
       "      <td>2</td>\n",
       "      <td>3</td>\n",
       "      <td>0</td>\n",
       "    </tr>\n",
       "    <tr>\n",
       "      <th>34010</th>\n",
       "      <td>20.0</td>\n",
       "      <td>0</td>\n",
       "      <td>0%</td>\n",
       "      <td>0.00</td>\n",
       "      <td>55</td>\n",
       "      <td>0.00</td>\n",
       "      <td>0.00</td>\n",
       "      <td>0.0</td>\n",
       "      <td>2</td>\n",
       "      <td>3</td>\n",
       "      <td>0</td>\n",
       "    </tr>\n",
       "    <tr>\n",
       "      <th>8240</th>\n",
       "      <td>6.0</td>\n",
       "      <td>0</td>\n",
       "      <td>0%</td>\n",
       "      <td>0.00</td>\n",
       "      <td>1</td>\n",
       "      <td>0.00</td>\n",
       "      <td>0.00</td>\n",
       "      <td>0.0</td>\n",
       "      <td>2</td>\n",
       "      <td>2</td>\n",
       "      <td>2</td>\n",
       "    </tr>\n",
       "  </tbody>\n",
       "</table>\n",
       "<p>5730 rows × 11 columns</p>\n",
       "</div>"
      ],
      "text/plain": [
       "       Budget  Clicks     CTR  Avg. CPC  Impr.  Avg. cost  Cost  Conv. value  \\\n",
       "26137     5.0       0      --      0.00      0       0.00  0.00          0.0   \n",
       "63686     2.0       0      --      0.00      0       0.00  0.00          0.0   \n",
       "63503     8.0       0      --      0.00      0       0.00  0.00          0.0   \n",
       "32070    15.0       0      --      0.00      0       0.00  0.00          0.0   \n",
       "31905    20.0       0      --      0.00      0       0.00  0.00          0.0   \n",
       "...       ...     ...     ...       ...    ...        ...   ...          ...   \n",
       "65863    15.0       6   0.74%      0.58    815       0.58  3.50          0.0   \n",
       "3169     20.0       3   0.17%      0.34   1717       0.34  1.03          0.0   \n",
       "89427     2.0       1  33.33%      0.07      3       0.07  0.07          0.0   \n",
       "34010    20.0       0      0%      0.00     55       0.00  0.00          0.0   \n",
       "8240      6.0       0      0%      0.00      1       0.00  0.00          0.0   \n",
       "\n",
       "       encoded_campaign_type  encoded_bid_strategy_type  encoded_Status  \n",
       "26137                      2                          2               1  \n",
       "63686                      2                          2               0  \n",
       "63503                      2                          2               5  \n",
       "32070                      4                          8               5  \n",
       "31905                      2                          2               4  \n",
       "...                      ...                        ...             ...  \n",
       "65863                      2                          2               0  \n",
       "3169                       2                          2               2  \n",
       "89427                      2                          3               0  \n",
       "34010                      2                          3               0  \n",
       "8240                       2                          2               2  \n",
       "\n",
       "[5730 rows x 11 columns]"
      ]
     },
     "execution_count": 79,
     "metadata": {},
     "output_type": "execute_result"
    }
   ],
   "source": [
    "cleanedData"
   ]
  },
  {
   "cell_type": "code",
   "execution_count": 80,
   "id": "3bbca7e0-2206-4293-bcef-344ec0709ae3",
   "metadata": {},
   "outputs": [
    {
     "data": {
      "text/plain": [
       "Budget                         0\n",
       "Clicks                         0\n",
       "CTR                          135\n",
       "Avg. CPC                       0\n",
       "Impr.                          0\n",
       "Avg. cost                      0\n",
       "Cost                           0\n",
       "Conv. value                    0\n",
       "encoded_campaign_type          0\n",
       "encoded_bid_strategy_type      0\n",
       "encoded_Status                 0\n",
       "dtype: int64"
      ]
     },
     "execution_count": 80,
     "metadata": {},
     "output_type": "execute_result"
    }
   ],
   "source": [
    "cleanedData.isin(['--']).sum()"
   ]
  },
  {
   "cell_type": "code",
   "execution_count": 81,
   "id": "a87808a8-3967-479b-9933-595aef1a6a1c",
   "metadata": {},
   "outputs": [],
   "source": [
    "cleanedData = cleanedData[cleanedData.CTR.isin(['--']) == False]"
   ]
  },
  {
   "cell_type": "code",
   "execution_count": 82,
   "id": "4c49e527-5ccf-446c-8c4c-b14f7ee00b17",
   "metadata": {},
   "outputs": [
    {
     "name": "stderr",
     "output_type": "stream",
     "text": [
      "C:\\Users\\Digitweb Sathurjan\\AppData\\Local\\Temp\\ipykernel_2360\\3378480026.py:1: SettingWithCopyWarning: \n",
      "A value is trying to be set on a copy of a slice from a DataFrame.\n",
      "Try using .loc[row_indexer,col_indexer] = value instead\n",
      "\n",
      "See the caveats in the documentation: https://pandas.pydata.org/pandas-docs/stable/user_guide/indexing.html#returning-a-view-versus-a-copy\n",
      "  cleanedData['CTR'] = (pd.to_numeric(cleanedData['CTR'].str[:-1])\n"
     ]
    }
   ],
   "source": [
    "cleanedData['CTR'] = (pd.to_numeric(cleanedData['CTR'].str[:-1])\n",
    "                            .div(100)\n",
    "                            .mask(cleanedData['CTR'] == '%', 0))"
   ]
  },
  {
   "cell_type": "code",
   "execution_count": 83,
   "id": "b4cc8f85-d14e-4069-aba4-be9c7a738754",
   "metadata": {},
   "outputs": [],
   "source": [
    "y=cleanedData['Conv. value']\n",
    "x=cleanedData.drop('Conv. value',axis='columns',inplace=False)"
   ]
  },
  {
   "cell_type": "code",
   "execution_count": 85,
   "id": "dc855187-5b0c-4a64-98ed-8f0516665337",
   "metadata": {},
   "outputs": [
    {
     "data": {
      "text/plain": [
       "(5595,)"
      ]
     },
     "execution_count": 85,
     "metadata": {},
     "output_type": "execute_result"
    }
   ],
   "source": [
    "y.shape"
   ]
  },
  {
   "cell_type": "code",
   "execution_count": 86,
   "id": "815fea9b-7dc3-4762-a3cc-5f1a8c42ed9f",
   "metadata": {},
   "outputs": [
    {
     "data": {
      "text/html": [
       "<div>\n",
       "<style scoped>\n",
       "    .dataframe tbody tr th:only-of-type {\n",
       "        vertical-align: middle;\n",
       "    }\n",
       "\n",
       "    .dataframe tbody tr th {\n",
       "        vertical-align: top;\n",
       "    }\n",
       "\n",
       "    .dataframe thead th {\n",
       "        text-align: right;\n",
       "    }\n",
       "</style>\n",
       "<table border=\"1\" class=\"dataframe\">\n",
       "  <thead>\n",
       "    <tr style=\"text-align: right;\">\n",
       "      <th></th>\n",
       "      <th>Budget</th>\n",
       "      <th>Clicks</th>\n",
       "      <th>CTR</th>\n",
       "      <th>Avg. CPC</th>\n",
       "      <th>Impr.</th>\n",
       "      <th>Avg. cost</th>\n",
       "      <th>Cost</th>\n",
       "      <th>encoded_campaign_type</th>\n",
       "      <th>encoded_bid_strategy_type</th>\n",
       "      <th>encoded_Status</th>\n",
       "    </tr>\n",
       "  </thead>\n",
       "  <tbody>\n",
       "    <tr>\n",
       "      <th>23165</th>\n",
       "      <td>5.0</td>\n",
       "      <td>4</td>\n",
       "      <td>0.0129</td>\n",
       "      <td>0.26</td>\n",
       "      <td>310</td>\n",
       "      <td>0.26</td>\n",
       "      <td>1.03</td>\n",
       "      <td>4</td>\n",
       "      <td>8</td>\n",
       "      <td>4</td>\n",
       "    </tr>\n",
       "    <tr>\n",
       "      <th>55926</th>\n",
       "      <td>2.0</td>\n",
       "      <td>3</td>\n",
       "      <td>0.0026</td>\n",
       "      <td>0.14</td>\n",
       "      <td>1146</td>\n",
       "      <td>0.14</td>\n",
       "      <td>0.42</td>\n",
       "      <td>4</td>\n",
       "      <td>8</td>\n",
       "      <td>4</td>\n",
       "    </tr>\n",
       "    <tr>\n",
       "      <th>19455</th>\n",
       "      <td>2.0</td>\n",
       "      <td>12</td>\n",
       "      <td>0.0041</td>\n",
       "      <td>0.22</td>\n",
       "      <td>2904</td>\n",
       "      <td>0.22</td>\n",
       "      <td>2.69</td>\n",
       "      <td>4</td>\n",
       "      <td>8</td>\n",
       "      <td>4</td>\n",
       "    </tr>\n",
       "    <tr>\n",
       "      <th>31868</th>\n",
       "      <td>5.0</td>\n",
       "      <td>1</td>\n",
       "      <td>0.0028</td>\n",
       "      <td>0.30</td>\n",
       "      <td>361</td>\n",
       "      <td>0.30</td>\n",
       "      <td>0.30</td>\n",
       "      <td>4</td>\n",
       "      <td>8</td>\n",
       "      <td>4</td>\n",
       "    </tr>\n",
       "    <tr>\n",
       "      <th>28665</th>\n",
       "      <td>5.0</td>\n",
       "      <td>0</td>\n",
       "      <td>0.0000</td>\n",
       "      <td>0.00</td>\n",
       "      <td>29</td>\n",
       "      <td>0.00</td>\n",
       "      <td>0.00</td>\n",
       "      <td>4</td>\n",
       "      <td>8</td>\n",
       "      <td>4</td>\n",
       "    </tr>\n",
       "    <tr>\n",
       "      <th>...</th>\n",
       "      <td>...</td>\n",
       "      <td>...</td>\n",
       "      <td>...</td>\n",
       "      <td>...</td>\n",
       "      <td>...</td>\n",
       "      <td>...</td>\n",
       "      <td>...</td>\n",
       "      <td>...</td>\n",
       "      <td>...</td>\n",
       "      <td>...</td>\n",
       "    </tr>\n",
       "    <tr>\n",
       "      <th>65863</th>\n",
       "      <td>15.0</td>\n",
       "      <td>6</td>\n",
       "      <td>0.0074</td>\n",
       "      <td>0.58</td>\n",
       "      <td>815</td>\n",
       "      <td>0.58</td>\n",
       "      <td>3.50</td>\n",
       "      <td>2</td>\n",
       "      <td>2</td>\n",
       "      <td>0</td>\n",
       "    </tr>\n",
       "    <tr>\n",
       "      <th>3169</th>\n",
       "      <td>20.0</td>\n",
       "      <td>3</td>\n",
       "      <td>0.0017</td>\n",
       "      <td>0.34</td>\n",
       "      <td>1717</td>\n",
       "      <td>0.34</td>\n",
       "      <td>1.03</td>\n",
       "      <td>2</td>\n",
       "      <td>2</td>\n",
       "      <td>2</td>\n",
       "    </tr>\n",
       "    <tr>\n",
       "      <th>89427</th>\n",
       "      <td>2.0</td>\n",
       "      <td>1</td>\n",
       "      <td>0.3333</td>\n",
       "      <td>0.07</td>\n",
       "      <td>3</td>\n",
       "      <td>0.07</td>\n",
       "      <td>0.07</td>\n",
       "      <td>2</td>\n",
       "      <td>3</td>\n",
       "      <td>0</td>\n",
       "    </tr>\n",
       "    <tr>\n",
       "      <th>34010</th>\n",
       "      <td>20.0</td>\n",
       "      <td>0</td>\n",
       "      <td>0.0000</td>\n",
       "      <td>0.00</td>\n",
       "      <td>55</td>\n",
       "      <td>0.00</td>\n",
       "      <td>0.00</td>\n",
       "      <td>2</td>\n",
       "      <td>3</td>\n",
       "      <td>0</td>\n",
       "    </tr>\n",
       "    <tr>\n",
       "      <th>8240</th>\n",
       "      <td>6.0</td>\n",
       "      <td>0</td>\n",
       "      <td>0.0000</td>\n",
       "      <td>0.00</td>\n",
       "      <td>1</td>\n",
       "      <td>0.00</td>\n",
       "      <td>0.00</td>\n",
       "      <td>2</td>\n",
       "      <td>2</td>\n",
       "      <td>2</td>\n",
       "    </tr>\n",
       "  </tbody>\n",
       "</table>\n",
       "<p>5595 rows × 10 columns</p>\n",
       "</div>"
      ],
      "text/plain": [
       "       Budget  Clicks     CTR  Avg. CPC  Impr.  Avg. cost  Cost  \\\n",
       "23165     5.0       4  0.0129      0.26    310       0.26  1.03   \n",
       "55926     2.0       3  0.0026      0.14   1146       0.14  0.42   \n",
       "19455     2.0      12  0.0041      0.22   2904       0.22  2.69   \n",
       "31868     5.0       1  0.0028      0.30    361       0.30  0.30   \n",
       "28665     5.0       0  0.0000      0.00     29       0.00  0.00   \n",
       "...       ...     ...     ...       ...    ...        ...   ...   \n",
       "65863    15.0       6  0.0074      0.58    815       0.58  3.50   \n",
       "3169     20.0       3  0.0017      0.34   1717       0.34  1.03   \n",
       "89427     2.0       1  0.3333      0.07      3       0.07  0.07   \n",
       "34010    20.0       0  0.0000      0.00     55       0.00  0.00   \n",
       "8240      6.0       0  0.0000      0.00      1       0.00  0.00   \n",
       "\n",
       "       encoded_campaign_type  encoded_bid_strategy_type  encoded_Status  \n",
       "23165                      4                          8               4  \n",
       "55926                      4                          8               4  \n",
       "19455                      4                          8               4  \n",
       "31868                      4                          8               4  \n",
       "28665                      4                          8               4  \n",
       "...                      ...                        ...             ...  \n",
       "65863                      2                          2               0  \n",
       "3169                       2                          2               2  \n",
       "89427                      2                          3               0  \n",
       "34010                      2                          3               0  \n",
       "8240                       2                          2               2  \n",
       "\n",
       "[5595 rows x 10 columns]"
      ]
     },
     "execution_count": 86,
     "metadata": {},
     "output_type": "execute_result"
    }
   ],
   "source": [
    "x"
   ]
  },
  {
   "cell_type": "code",
   "execution_count": 19,
   "id": "5736f079-8a7a-4588-b505-f8f3e82b82f1",
   "metadata": {},
   "outputs": [],
   "source": [
    "x['y']=y"
   ]
  },
  {
   "cell_type": "code",
   "execution_count": 87,
   "id": "b4a822f5",
   "metadata": {},
   "outputs": [
    {
     "data": {
      "text/html": [
       "<div>\n",
       "<style scoped>\n",
       "    .dataframe tbody tr th:only-of-type {\n",
       "        vertical-align: middle;\n",
       "    }\n",
       "\n",
       "    .dataframe tbody tr th {\n",
       "        vertical-align: top;\n",
       "    }\n",
       "\n",
       "    .dataframe thead th {\n",
       "        text-align: right;\n",
       "    }\n",
       "</style>\n",
       "<table border=\"1\" class=\"dataframe\">\n",
       "  <thead>\n",
       "    <tr style=\"text-align: right;\">\n",
       "      <th></th>\n",
       "      <th>Budget</th>\n",
       "      <th>Clicks</th>\n",
       "      <th>CTR</th>\n",
       "      <th>Avg. CPC</th>\n",
       "      <th>Impr.</th>\n",
       "      <th>Avg. cost</th>\n",
       "      <th>Cost</th>\n",
       "      <th>encoded_campaign_type</th>\n",
       "      <th>encoded_bid_strategy_type</th>\n",
       "      <th>encoded_Status</th>\n",
       "    </tr>\n",
       "  </thead>\n",
       "  <tbody>\n",
       "    <tr>\n",
       "      <th>Budget</th>\n",
       "      <td>1.000000</td>\n",
       "      <td>0.602811</td>\n",
       "      <td>-0.024079</td>\n",
       "      <td>0.018469</td>\n",
       "      <td>0.587076</td>\n",
       "      <td>0.026992</td>\n",
       "      <td>0.624079</td>\n",
       "      <td>-0.278273</td>\n",
       "      <td>-0.151672</td>\n",
       "      <td>-0.254675</td>\n",
       "    </tr>\n",
       "    <tr>\n",
       "      <th>Clicks</th>\n",
       "      <td>0.602811</td>\n",
       "      <td>1.000000</td>\n",
       "      <td>-0.060448</td>\n",
       "      <td>-0.008300</td>\n",
       "      <td>0.981759</td>\n",
       "      <td>0.007261</td>\n",
       "      <td>0.957075</td>\n",
       "      <td>-0.132918</td>\n",
       "      <td>-0.039628</td>\n",
       "      <td>-0.122749</td>\n",
       "    </tr>\n",
       "    <tr>\n",
       "      <th>CTR</th>\n",
       "      <td>-0.024079</td>\n",
       "      <td>-0.060448</td>\n",
       "      <td>1.000000</td>\n",
       "      <td>0.058089</td>\n",
       "      <td>-0.087307</td>\n",
       "      <td>0.067023</td>\n",
       "      <td>-0.059227</td>\n",
       "      <td>-0.092748</td>\n",
       "      <td>-0.056266</td>\n",
       "      <td>-0.090521</td>\n",
       "    </tr>\n",
       "    <tr>\n",
       "      <th>Avg. CPC</th>\n",
       "      <td>0.018469</td>\n",
       "      <td>-0.008300</td>\n",
       "      <td>0.058089</td>\n",
       "      <td>1.000000</td>\n",
       "      <td>-0.009171</td>\n",
       "      <td>0.957073</td>\n",
       "      <td>0.115496</td>\n",
       "      <td>-0.236894</td>\n",
       "      <td>-0.113739</td>\n",
       "      <td>-0.201458</td>\n",
       "    </tr>\n",
       "    <tr>\n",
       "      <th>Impr.</th>\n",
       "      <td>0.587076</td>\n",
       "      <td>0.981759</td>\n",
       "      <td>-0.087307</td>\n",
       "      <td>-0.009171</td>\n",
       "      <td>1.000000</td>\n",
       "      <td>0.003709</td>\n",
       "      <td>0.944232</td>\n",
       "      <td>-0.119886</td>\n",
       "      <td>-0.033956</td>\n",
       "      <td>-0.107864</td>\n",
       "    </tr>\n",
       "  </tbody>\n",
       "</table>\n",
       "</div>"
      ],
      "text/plain": [
       "            Budget    Clicks       CTR  Avg. CPC     Impr.  Avg. cost  \\\n",
       "Budget    1.000000  0.602811 -0.024079  0.018469  0.587076   0.026992   \n",
       "Clicks    0.602811  1.000000 -0.060448 -0.008300  0.981759   0.007261   \n",
       "CTR      -0.024079 -0.060448  1.000000  0.058089 -0.087307   0.067023   \n",
       "Avg. CPC  0.018469 -0.008300  0.058089  1.000000 -0.009171   0.957073   \n",
       "Impr.     0.587076  0.981759 -0.087307 -0.009171  1.000000   0.003709   \n",
       "\n",
       "              Cost  encoded_campaign_type  encoded_bid_strategy_type  \\\n",
       "Budget    0.624079              -0.278273                  -0.151672   \n",
       "Clicks    0.957075              -0.132918                  -0.039628   \n",
       "CTR      -0.059227              -0.092748                  -0.056266   \n",
       "Avg. CPC  0.115496              -0.236894                  -0.113739   \n",
       "Impr.     0.944232              -0.119886                  -0.033956   \n",
       "\n",
       "          encoded_Status  \n",
       "Budget         -0.254675  \n",
       "Clicks         -0.122749  \n",
       "CTR            -0.090521  \n",
       "Avg. CPC       -0.201458  \n",
       "Impr.          -0.107864  "
      ]
     },
     "execution_count": 87,
     "metadata": {},
     "output_type": "execute_result"
    }
   ],
   "source": [
    "COF=x.corr(method='pearson')\n",
    "COF.head()"
   ]
  },
  {
   "cell_type": "code",
   "execution_count": 88,
   "id": "122f21f0",
   "metadata": {},
   "outputs": [
    {
     "data": {
      "text/plain": [
       "<Axes: >"
      ]
     },
     "execution_count": 88,
     "metadata": {},
     "output_type": "execute_result"
    },
    {
     "data": {
      "image/png": "[encoded data removed]",
      "text/plain": [
       "<Figure size 1600x800 with 2 Axes>"
      ]
     },
     "metadata": {},
     "output_type": "display_data"
    }
   ],
   "source": [
    "import seaborn as sns\n",
    "sns.set(rc={'figure.figsize':(16,8)})\n",
    "sns.heatmap(COF, annot=True,linewidth=0.1,annot_kws={\"size\":8},fmt='.2')"
   ]
  },
  {
   "cell_type": "code",
   "execution_count": 89,
   "id": "99392067",
   "metadata": {},
   "outputs": [
    {
     "data": {
      "image/png": "[encoded data removed]",
      "text/plain": [
       "<Figure size 1200x1000 with 2 Axes>"
      ]
     },
     "metadata": {},
     "output_type": "display_data"
    }
   ],
   "source": [
    "#using pearson correlation\n",
    "import matplotlib.pyplot as plt\n",
    "plt.figure(figsize=(12,10))\n",
    "cor=x.corr()\n",
    "sns.heatmap(cor, annot=True, cmap=plt.cm.Reds)\n",
    "plt.show()"
   ]
  },
  {
   "cell_type": "code",
   "execution_count": 90,
   "id": "816a98d1",
   "metadata": {},
   "outputs": [],
   "source": [
    "#Correlation with output variable\n",
    "cor_target=abs(cor[\"Cost\"])"
   ]
  },
  {
   "cell_type": "code",
   "execution_count": 91,
   "id": "9e75ca25",
   "metadata": {},
   "outputs": [
    {
     "data": {
      "text/plain": [
       "Cost                         1.000000\n",
       "Clicks                       0.957075\n",
       "Impr.                        0.944232\n",
       "Budget                       0.624079\n",
       "Avg. cost                    0.125718\n",
       "Avg. CPC                     0.115496\n",
       "CTR                         -0.059227\n",
       "encoded_bid_strategy_type   -0.097184\n",
       "encoded_Status              -0.196269\n",
       "encoded_campaign_type       -0.210922\n",
       "Name: Cost, dtype: float64"
      ]
     },
     "execution_count": 91,
     "metadata": {},
     "output_type": "execute_result"
    }
   ],
   "source": [
    "corr_matrix=x.corr()\n",
    "corr_matrix[\"Cost\"].sort_values(ascending=False)"
   ]
  },
  {
   "cell_type": "code",
   "execution_count": 92,
   "id": "9efd2b04",
   "metadata": {},
   "outputs": [
    {
     "data": {
      "text/plain": [
       "Budget    0.624079\n",
       "Clicks    0.957075\n",
       "Impr.     0.944232\n",
       "Cost      1.000000\n",
       "Name: Cost, dtype: float64"
      ]
     },
     "execution_count": 92,
     "metadata": {},
     "output_type": "execute_result"
    }
   ],
   "source": [
    "#selecting highly correlated features\n",
    "relevent_features=cor_target[cor_target>0.25]   #threshold value=0.5\n",
    "relevent_features"
   ]
  },
  {
   "cell_type": "code",
   "execution_count": 93,
   "id": "3f27543f",
   "metadata": {},
   "outputs": [
    {
     "name": "stdout",
     "output_type": "stream",
     "text": [
      "          Clicks     Impr.\n",
      "Clicks  1.000000  0.981759\n",
      "Impr.   0.981759  1.000000\n",
      "\n",
      "                   Clicks  encoded_Status\n",
      "Clicks          1.000000       -0.122749\n",
      "encoded_Status -0.122749        1.000000\n",
      "\n",
      "           Impr.      Cost\n",
      "Impr.  1.000000  0.944232\n",
      "Cost   0.944232  1.000000\n",
      "\n",
      "           Budget      Cost\n",
      "Budget  1.000000  0.624079\n",
      "Cost    0.624079  1.000000\n",
      "\n",
      "           Budget    Clicks\n",
      "Budget  1.000000  0.602811\n",
      "Clicks  0.602811  1.000000\n",
      "\n",
      "           Budget     Impr.\n",
      "Budget  1.000000  0.587076\n",
      "Impr.   0.587076  1.000000\n",
      "\n",
      "                               Impr.  encoded_bid_strategy_type\n",
      "Impr.                      1.000000                  -0.033956\n",
      "encoded_bid_strategy_type -0.033956                   1.000000\n"
     ]
    }
   ],
   "source": [
    "print(x[[\"Clicks\",\"Impr.\"]].corr())\n",
    "print(\"\\n\",x[[\"Clicks\",\"encoded_Status\"]].corr())\n",
    "print(\"\\n\",x[[\"Impr.\",\"Cost\"]].corr())\n",
    "print(\"\\n\",x[[\"Budget\",\"Cost\"]].corr())\n",
    "print(\"\\n\",x[[\"Budget\",\"Clicks\"]].corr())\n",
    "print(\"\\n\",x[[\"Budget\",\"Impr.\"]].corr())\n",
    "print(\"\\n\",x[[\"Impr.\",\"encoded_bid_strategy_type\"]].corr())\n"
   ]
  },
  {
   "cell_type": "code",
   "execution_count": 62,
   "id": "a1678c6f-385c-47dd-bee5-502095c437f8",
   "metadata": {},
   "outputs": [],
   "source": [
    "X=x"
   ]
  },
  {
   "cell_type": "code",
   "execution_count": 63,
   "id": "7fde0c2d-608e-4963-83d8-154dbb9bc80b",
   "metadata": {},
   "outputs": [
    {
     "ename": "AttributeError",
     "evalue": "'numpy.ndarray' object has no attribute 'to_numpy'",
     "output_type": "error",
     "traceback": [
      "\u001b[1;31m---------------------------------------------------------------------------\u001b[0m",
      "\u001b[1;31mAttributeError\u001b[0m                            Traceback (most recent call last)",
      "Cell \u001b[1;32mIn[63], line 1\u001b[0m\n\u001b[1;32m----> 1\u001b[0m y\u001b[38;5;241m=\u001b[39my\u001b[38;5;241m.\u001b[39mto_numpy()\n",
      "\u001b[1;31mAttributeError\u001b[0m: 'numpy.ndarray' object has no attribute 'to_numpy'"
     ]
    }
   ],
   "source": [
    "y=y.to_numpy()"
   ]
  },
  {
   "cell_type": "code",
   "execution_count": 64,
   "id": "d539b9ff-6db9-409a-9cdb-2971eb2270f3",
   "metadata": {},
   "outputs": [
    {
     "data": {
      "text/plain": [
       "array([[5.000e+00, 4.000e+00, 1.290e-02, ..., 4.000e+00, 8.000e+00,\n",
       "        4.000e+00],\n",
       "       [2.000e+00, 3.000e+00, 2.600e-03, ..., 4.000e+00, 8.000e+00,\n",
       "        4.000e+00],\n",
       "       [2.000e+00, 1.200e+01, 4.100e-03, ..., 4.000e+00, 8.000e+00,\n",
       "        4.000e+00],\n",
       "       ...,\n",
       "       [2.000e+00, 1.000e+00, 3.333e-01, ..., 2.000e+00, 3.000e+00,\n",
       "        0.000e+00],\n",
       "       [2.000e+01, 0.000e+00, 0.000e+00, ..., 2.000e+00, 3.000e+00,\n",
       "        0.000e+00],\n",
       "       [6.000e+00, 0.000e+00, 0.000e+00, ..., 2.000e+00, 2.000e+00,\n",
       "        2.000e+00]])"
      ]
     },
     "execution_count": 64,
     "metadata": {},
     "output_type": "execute_result"
    }
   ],
   "source": [
    "X"
   ]
  },
  {
   "cell_type": "code",
   "execution_count": 65,
   "id": "63724058-c35d-42b2-855f-79d461cd78eb",
   "metadata": {},
   "outputs": [
    {
     "data": {
      "text/plain": [
       "array([0., 0., 0., ..., 0., 0., 0.])"
      ]
     },
     "execution_count": 65,
     "metadata": {},
     "output_type": "execute_result"
    }
   ],
   "source": [
    "y"
   ]
  },
  {
   "cell_type": "code",
   "execution_count": 94,
   "id": "ece647b6",
   "metadata": {},
   "outputs": [
    {
     "name": "stdout",
     "output_type": "stream",
     "text": [
      "Best Alpha using built-in LassoCV : 367.744272\n",
      "Best Score using built-in LassoCV : 0.353057\n"
     ]
    }
   ],
   "source": [
    "import pandas as pd\n",
    "from sklearn.linear_model import LassoCV,Lasso\n",
    "reg=LassoCV()\n",
    "reg.fit(x,y)\n",
    "print(\"Best Alpha using built-in LassoCV : %f\"%reg.alpha_)\n",
    "print(\"Best Score using built-in LassoCV : %f\"%reg.score(x,y))\n",
    "coef=pd.Series(reg.coef_,index=x.columns)"
   ]
  },
  {
   "cell_type": "code",
   "execution_count": 95,
   "id": "afc856dc",
   "metadata": {},
   "outputs": [
    {
     "name": "stdout",
     "output_type": "stream",
     "text": [
      "Lasso picked 1 variables and eliminated the other 9 variables\n"
     ]
    }
   ],
   "source": [
    "print(\"Lasso picked \"+ str(sum(coef!=0))+\" variables and eliminated the other \"+str(sum(coef==0))+\" variables\")"
   ]
  },
  {
   "cell_type": "code",
   "execution_count": 96,
   "id": "78e609c1",
   "metadata": {},
   "outputs": [
    {
     "data": {
      "text/plain": [
       "Text(0.5, 1.0, 'Feature Importance using Lasso Model')"
      ]
     },
     "execution_count": 96,
     "metadata": {},
     "output_type": "execute_result"
    },
    {
     "data": {
      "image/png": "[encoded data removed]",
      "text/plain": [
       "<Figure size 800x1000 with 1 Axes>"
      ]
     },
     "metadata": {},
     "output_type": "display_data"
    }
   ],
   "source": [
    "import matplotlib as mpl\n",
    "imp_coef=coef.sort_values()\n",
    "mpl.rcParams['figure.figsize']=(8.0, 10.0)\n",
    "imp_coef.plot(kind=\"barh\")\n",
    "plt.title(\"Feature Importance using Lasso Model\")"
   ]
  },
  {
   "cell_type": "markdown",
   "id": "399c0e3f",
   "metadata": {},
   "source": [
    "# "
   ]
  },
  {
   "cell_type": "markdown",
   "id": "4177be77",
   "metadata": {},
   "source": [
    "## some other feature selection methods"
   ]
  },
  {
   "cell_type": "markdown",
   "id": "59675477",
   "metadata": {},
   "source": [
    "### Backward Elimination  using Ordinary Least Squares"
   ]
  },
  {
   "cell_type": "code",
   "execution_count": 97,
   "id": "7c88c44a",
   "metadata": {},
   "outputs": [
    {
     "data": {
      "text/plain": [
       "const                        2.952588e-01\n",
       "Budget                       3.106877e-09\n",
       "Clicks                       1.817771e-20\n",
       "CTR                          2.961005e-01\n",
       "Avg. CPC                     3.852396e-04\n",
       "Impr.                        8.883666e-01\n",
       "Avg. cost                    1.751635e-03\n",
       "Cost                         1.946960e-01\n",
       "encoded_campaign_type        9.604499e-01\n",
       "encoded_bid_strategy_type    6.852484e-07\n",
       "encoded_Status               1.571560e-01\n",
       "dtype: float64"
      ]
     },
     "execution_count": 97,
     "metadata": {},
     "output_type": "execute_result"
    }
   ],
   "source": [
    "import statsmodels.api as sm\n",
    "#adding constant columsn of ones, mandotory for sm.OLS model\n",
    "x_1=sm.add_constant(x)\n",
    "\n",
    "#fitting sm.OLS model\n",
    "model=sm.OLS(y,x_1).fit()\n",
    "model.pvalues"
   ]
  },
  {
   "cell_type": "code",
   "execution_count": 98,
   "id": "86c7ec92",
   "metadata": {},
   "outputs": [
    {
     "name": "stdout",
     "output_type": "stream",
     "text": [
      "['Budget', 'Clicks', 'Avg. CPC', 'Avg. cost', 'encoded_bid_strategy_type']\n"
     ]
    }
   ],
   "source": [
    "#backward elimination\n",
    "cols=list(x.columns)\n",
    "pmax=1\n",
    "while(len(cols)>0):\n",
    "    p=[]\n",
    "    x_1=x[cols]\n",
    "    x_1=sm.add_constant(x_1)\n",
    "    model=sm.OLS(y,x_1).fit()\n",
    "    p=pd.Series(model.pvalues.values[1:],index=cols)\n",
    "    pmax=max(p)\n",
    "    feature_with_p_max=p.idxmax()\n",
    "    if(pmax>0.05):\n",
    "        cols.remove(feature_with_p_max)\n",
    "    else:\n",
    "        break\n",
    "selected_features_BE=cols\n",
    "print(selected_features_BE)"
   ]
  },
  {
   "cell_type": "markdown",
   "id": "14ac11ed",
   "metadata": {},
   "source": [
    "### Recursive Feature Elimination"
   ]
  },
  {
   "cell_type": "code",
   "execution_count": 99,
   "id": "f9bfdeea",
   "metadata": {},
   "outputs": [
    {
     "name": "stdout",
     "output_type": "stream",
     "text": [
      "[False  True  True  True False  True False False  True False]\n",
      "[2 1 1 1 6 1 4 5 1 3]\n"
     ]
    }
   ],
   "source": [
    "from sklearn.linear_model import LinearRegression, RidgeCV,Ridge\n",
    "from sklearn.feature_selection import RFE\n",
    "\n",
    "model=LinearRegression()\n",
    "\n",
    "#initializing RFE model\n",
    "rfe=RFE(model)\n",
    "\n",
    "#transforming data using RFE\n",
    "x_rfe=rfe.fit_transform(x,y)\n",
    "\n",
    "#fitting the data to model\n",
    "model.fit(x_rfe,y)\n",
    "print(rfe.support_)\n",
    "print(rfe.ranking_)"
   ]
  },
  {
   "cell_type": "code",
   "execution_count": 100,
   "id": "8ffd9e4c",
   "metadata": {},
   "outputs": [
    {
     "name": "stdout",
     "output_type": "stream",
     "text": [
      "Optimum number of features : 12\n",
      "Score with 12 features: 0.302485\n"
     ]
    }
   ],
   "source": [
    "from sklearn.model_selection import train_test_split\n",
    "#no of features\n",
    "nof_list=np.arange(1,13)\n",
    "high_score=0\n",
    "\n",
    "#variable to store the optimum features\n",
    "nof=0\n",
    "score_list=[]\n",
    "for n in range(len(nof_list)):\n",
    "    x_train,x_test,y_train,y_test=train_test_split(x,y,test_size=0.3,random_state=0)\n",
    "model=LinearRegression()\n",
    "rfe=RFE(model)\n",
    "x_train_rfe=rfe.fit_transform(x_train,y_train)\n",
    "x_test_rfe=rfe.transform(x_test)\n",
    "model.fit(x_train_rfe,y_train)\n",
    "score=model.score(x_test_rfe,y_test)\n",
    "score_list.append(score)\n",
    "if(score>high_score):\n",
    "    high_score=score\n",
    "    nof=nof_list[n];\n",
    "print(\"Optimum number of features : %d\"%nof)\n",
    "print(\"Score with %d features: %f\"%(nof,high_score));"
   ]
  },
  {
   "cell_type": "code",
   "execution_count": 101,
   "id": "d602231b",
   "metadata": {},
   "outputs": [
    {
     "name": "stdout",
     "output_type": "stream",
     "text": [
      "Index(['Clicks', 'CTR', 'Avg. CPC', 'Avg. cost', 'encoded_bid_strategy_type'], dtype='object')\n"
     ]
    }
   ],
   "source": [
    "cols=list(x.columns)\n",
    "model=LinearRegression()\n",
    "\n",
    "#initializing RFE model\n",
    "rfe=RFE(model)\n",
    "\n",
    "#Transforming data using RFE\n",
    "x_rfe=rfe.fit_transform(x,y)\n",
    "\n",
    "#fitting the data to model\n",
    "model.fit(x_rfe,y)\n",
    "temp=pd.Series(rfe.support_,index=cols)\n",
    "selected_features_rfe=temp[temp==True].index\n",
    "print(selected_features_rfe)"
   ]
  },
  {
   "cell_type": "code",
   "execution_count": null,
   "id": "636f35ef",
   "metadata": {},
   "outputs": [],
   "source": []
  }
 ],
 "metadata": {
  "kernelspec": {
   "display_name": "Python 3 (ipykernel)",
   "language": "python",
   "name": "python3"
  },
  "language_info": {
   "codemirror_mode": {
    "name": "ipython",
    "version": 3
   },
   "file_extension": ".py",
   "mimetype": "text/x-python",
   "name": "python",
   "nbconvert_exporter": "python",
   "pygments_lexer": "ipython3",
   "version": "3.11.7"
  }
 },
 "nbformat": 4,
 "nbformat_minor": 5
}

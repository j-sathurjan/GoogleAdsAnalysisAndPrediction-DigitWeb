{
 "cells": [
  {
   "cell_type": "code",
   "execution_count": 126,
   "metadata": {},
   "outputs": [
    {
     "name": "stdout",
     "output_type": "stream",
     "text": [
      "         RMSD        F1       F2       F3        F4            F5        F6  \\\n",
      "0      17.284  13558.30  4305.35  0.31754  162.1730  1.872791e+06  215.3590   \n",
      "1       6.021   6191.96  1623.16  0.26213   53.3894  8.034467e+05   87.2024   \n",
      "2       9.275   7725.98  1726.28  0.22343   67.2887  1.075648e+06   81.7913   \n",
      "3      15.851   8424.58  2368.25  0.28111   67.8325  1.210472e+06  109.4390   \n",
      "4       7.962   7460.84  1736.94  0.23280   52.4123  1.021020e+06   94.5234   \n",
      "...       ...       ...      ...      ...       ...           ...       ...   \n",
      "45725   3.762   8037.12  2777.68  0.34560   64.3390  1.105797e+06  112.7460   \n",
      "45726   6.521   7978.76  2508.57  0.31440   75.8654  1.116725e+06  102.2770   \n",
      "45727  10.356   7726.65  2489.58  0.32220   70.9903  1.076560e+06  103.6780   \n",
      "45728   9.791   8878.93  3055.78  0.34416   94.0314  1.242266e+06  115.1950   \n",
      "45729  18.827  12732.40  4444.36  0.34905  157.6300  1.788897e+06  229.4590   \n",
      "\n",
      "            F7   F8       F9  \n",
      "0      4287.87  102  27.0302  \n",
      "1      3328.91   39  38.5468  \n",
      "2      2981.04   29  38.8119  \n",
      "3      3248.22   70  39.0651  \n",
      "4      2814.42   41  39.9147  \n",
      "...        ...  ...      ...  \n",
      "45725  3384.21   84  36.8036  \n",
      "45726  3974.52   54  36.0470  \n",
      "45727  3290.46   46  37.4718  \n",
      "45728  3421.79   41  35.6045  \n",
      "45729  4626.85  141  29.8118  \n",
      "\n",
      "[45730 rows x 10 columns]\n"
     ]
    }
   ],
   "source": [
    "import pandas as pd\n",
    "from io import StringIO\n",
    "df=pd.read_csv(\"https://archive.ics.uci.edu/ml/machine-learning-databases/00265/CASP.csv\", sep=\",\")\n",
    "print(df)"
   ]
  },
  {
   "cell_type": "code",
   "execution_count": 130,
   "metadata": {},
   "outputs": [
    {
     "data": {
      "text/html": [
       "<div>\n",
       "<style scoped>\n",
       "    .dataframe tbody tr th:only-of-type {\n",
       "        vertical-align: middle;\n",
       "    }\n",
       "\n",
       "    .dataframe tbody tr th {\n",
       "        vertical-align: top;\n",
       "    }\n",
       "\n",
       "    .dataframe thead th {\n",
       "        text-align: right;\n",
       "    }\n",
       "</style>\n",
       "<table border=\"1\" class=\"dataframe\">\n",
       "  <thead>\n",
       "    <tr style=\"text-align: right;\">\n",
       "      <th></th>\n",
       "      <th>RMSD</th>\n",
       "      <th>F1</th>\n",
       "      <th>F2</th>\n",
       "      <th>F3</th>\n",
       "      <th>F4</th>\n",
       "      <th>F5</th>\n",
       "      <th>F6</th>\n",
       "      <th>F7</th>\n",
       "      <th>F8</th>\n",
       "      <th>F9</th>\n",
       "    </tr>\n",
       "  </thead>\n",
       "  <tbody>\n",
       "    <tr>\n",
       "      <td>0</td>\n",
       "      <td>17.284</td>\n",
       "      <td>13558.30</td>\n",
       "      <td>4305.35</td>\n",
       "      <td>0.31754</td>\n",
       "      <td>162.1730</td>\n",
       "      <td>1.872791e+06</td>\n",
       "      <td>215.3590</td>\n",
       "      <td>4287.87</td>\n",
       "      <td>102</td>\n",
       "      <td>27.0302</td>\n",
       "    </tr>\n",
       "    <tr>\n",
       "      <td>1</td>\n",
       "      <td>6.021</td>\n",
       "      <td>6191.96</td>\n",
       "      <td>1623.16</td>\n",
       "      <td>0.26213</td>\n",
       "      <td>53.3894</td>\n",
       "      <td>8.034467e+05</td>\n",
       "      <td>87.2024</td>\n",
       "      <td>3328.91</td>\n",
       "      <td>39</td>\n",
       "      <td>38.5468</td>\n",
       "    </tr>\n",
       "    <tr>\n",
       "      <td>2</td>\n",
       "      <td>9.275</td>\n",
       "      <td>7725.98</td>\n",
       "      <td>1726.28</td>\n",
       "      <td>0.22343</td>\n",
       "      <td>67.2887</td>\n",
       "      <td>1.075648e+06</td>\n",
       "      <td>81.7913</td>\n",
       "      <td>2981.04</td>\n",
       "      <td>29</td>\n",
       "      <td>38.8119</td>\n",
       "    </tr>\n",
       "    <tr>\n",
       "      <td>3</td>\n",
       "      <td>15.851</td>\n",
       "      <td>8424.58</td>\n",
       "      <td>2368.25</td>\n",
       "      <td>0.28111</td>\n",
       "      <td>67.8325</td>\n",
       "      <td>1.210472e+06</td>\n",
       "      <td>109.4390</td>\n",
       "      <td>3248.22</td>\n",
       "      <td>70</td>\n",
       "      <td>39.0651</td>\n",
       "    </tr>\n",
       "    <tr>\n",
       "      <td>4</td>\n",
       "      <td>7.962</td>\n",
       "      <td>7460.84</td>\n",
       "      <td>1736.94</td>\n",
       "      <td>0.23280</td>\n",
       "      <td>52.4123</td>\n",
       "      <td>1.021020e+06</td>\n",
       "      <td>94.5234</td>\n",
       "      <td>2814.42</td>\n",
       "      <td>41</td>\n",
       "      <td>39.9147</td>\n",
       "    </tr>\n",
       "  </tbody>\n",
       "</table>\n",
       "</div>"
      ],
      "text/plain": [
       "     RMSD        F1       F2       F3        F4            F5        F6  \\\n",
       "0  17.284  13558.30  4305.35  0.31754  162.1730  1.872791e+06  215.3590   \n",
       "1   6.021   6191.96  1623.16  0.26213   53.3894  8.034467e+05   87.2024   \n",
       "2   9.275   7725.98  1726.28  0.22343   67.2887  1.075648e+06   81.7913   \n",
       "3  15.851   8424.58  2368.25  0.28111   67.8325  1.210472e+06  109.4390   \n",
       "4   7.962   7460.84  1736.94  0.23280   52.4123  1.021020e+06   94.5234   \n",
       "\n",
       "        F7   F8       F9  \n",
       "0  4287.87  102  27.0302  \n",
       "1  3328.91   39  38.5468  \n",
       "2  2981.04   29  38.8119  \n",
       "3  3248.22   70  39.0651  \n",
       "4  2814.42   41  39.9147  "
      ]
     },
     "execution_count": 130,
     "metadata": {},
     "output_type": "execute_result"
    }
   ],
   "source": [
    "#print the first 5 details of the data frame\n",
    "df.head()"
   ]
  },
  {
   "cell_type": "code",
   "execution_count": 131,
   "metadata": {},
   "outputs": [
    {
     "name": "stdout",
     "output_type": "stream",
     "text": [
      "Shape of the Data is :  (45730, 10)\n"
     ]
    }
   ],
   "source": [
    "#printing the shape of the Data Frame\n",
    "print(\"Shape of the Data is : \",df.shape)"
   ]
  },
  {
   "cell_type": "code",
   "execution_count": 132,
   "metadata": {},
   "outputs": [
    {
     "name": "stdout",
     "output_type": "stream",
     "text": [
      "RMSD    0\n",
      "F1      0\n",
      "F2      0\n",
      "F3      0\n",
      "F4      0\n",
      "F5      0\n",
      "F6      0\n",
      "F7      0\n",
      "F8      0\n",
      "F9      0\n",
      "dtype: int64\n"
     ]
    }
   ],
   "source": [
    "#check whether is there any null values\n",
    "print(df.isnull().sum())"
   ]
  },
  {
   "cell_type": "markdown",
   "metadata": {},
   "source": [
    "### Dataframe created by Pandas. The ffill() function is used to fill in the dataframe's missing value. 'ffill' stands for 'forward fill,' and it advances the last valid observation."
   ]
  },
  {
   "cell_type": "code",
   "execution_count": 133,
   "metadata": {},
   "outputs": [
    {
     "name": "stdout",
     "output_type": "stream",
     "text": [
      "         RMSD        F1       F2       F3        F4            F5        F6  \\\n",
      "0      17.284  13558.30  4305.35  0.31754  162.1730  1.872791e+06  215.3590   \n",
      "1       6.021   6191.96  1623.16  0.26213   53.3894  8.034467e+05   87.2024   \n",
      "2       9.275   7725.98  1726.28  0.22343   67.2887  1.075648e+06   81.7913   \n",
      "3      15.851   8424.58  2368.25  0.28111   67.8325  1.210472e+06  109.4390   \n",
      "4       7.962   7460.84  1736.94  0.23280   52.4123  1.021020e+06   94.5234   \n",
      "...       ...       ...      ...      ...       ...           ...       ...   \n",
      "45725   3.762   8037.12  2777.68  0.34560   64.3390  1.105797e+06  112.7460   \n",
      "45726   6.521   7978.76  2508.57  0.31440   75.8654  1.116725e+06  102.2770   \n",
      "45727  10.356   7726.65  2489.58  0.32220   70.9903  1.076560e+06  103.6780   \n",
      "45728   9.791   8878.93  3055.78  0.34416   94.0314  1.242266e+06  115.1950   \n",
      "45729  18.827  12732.40  4444.36  0.34905  157.6300  1.788897e+06  229.4590   \n",
      "\n",
      "            F7     F8       F9  \n",
      "0      4287.87  102.0  27.0302  \n",
      "1      3328.91   39.0  38.5468  \n",
      "2      2981.04   29.0  38.8119  \n",
      "3      3248.22   70.0  39.0651  \n",
      "4      2814.42   41.0  39.9147  \n",
      "...        ...    ...      ...  \n",
      "45725  3384.21   84.0  36.8036  \n",
      "45726  3974.52   54.0  36.0470  \n",
      "45727  3290.46   46.0  37.4718  \n",
      "45728  3421.79   41.0  35.6045  \n",
      "45729  4626.85  141.0  29.8118  \n",
      "\n",
      "[45730 rows x 10 columns]\n"
     ]
    }
   ],
   "source": [
    "# fill the null value as previous value\n",
    "fill_data=df.ffill(axis=1)\n",
    "print(fill_data)"
   ]
  },
  {
   "cell_type": "code",
   "execution_count": 134,
   "metadata": {},
   "outputs": [
    {
     "name": "stdout",
     "output_type": "stream",
     "text": [
      "1711\n"
     ]
    }
   ],
   "source": [
    "#check whether is there any duplicate values\n",
    "print(fill_data.duplicated().sum())"
   ]
  },
  {
   "cell_type": "code",
   "execution_count": 135,
   "metadata": {},
   "outputs": [
    {
     "data": {
      "text/plain": [
       "0"
      ]
     },
     "execution_count": 135,
     "metadata": {},
     "output_type": "execute_result"
    }
   ],
   "source": [
    "#clean the duplicate values\n",
    "clean_data=fill_data.drop_duplicates()\n",
    "clean_data.duplicated().sum()"
   ]
  },
  {
   "cell_type": "code",
   "execution_count": 136,
   "metadata": {},
   "outputs": [
    {
     "data": {
      "text/html": [
       "<div>\n",
       "<style scoped>\n",
       "    .dataframe tbody tr th:only-of-type {\n",
       "        vertical-align: middle;\n",
       "    }\n",
       "\n",
       "    .dataframe tbody tr th {\n",
       "        vertical-align: top;\n",
       "    }\n",
       "\n",
       "    .dataframe thead th {\n",
       "        text-align: right;\n",
       "    }\n",
       "</style>\n",
       "<table border=\"1\" class=\"dataframe\">\n",
       "  <thead>\n",
       "    <tr style=\"text-align: right;\">\n",
       "      <th></th>\n",
       "      <th>RMSD</th>\n",
       "      <th>F1</th>\n",
       "      <th>F2</th>\n",
       "      <th>F3</th>\n",
       "      <th>F4</th>\n",
       "      <th>F5</th>\n",
       "      <th>F6</th>\n",
       "      <th>F7</th>\n",
       "      <th>F8</th>\n",
       "      <th>F9</th>\n",
       "    </tr>\n",
       "  </thead>\n",
       "  <tbody>\n",
       "    <tr>\n",
       "      <td>0</td>\n",
       "      <td>17.284</td>\n",
       "      <td>13558.30</td>\n",
       "      <td>4305.35</td>\n",
       "      <td>0.31754</td>\n",
       "      <td>162.1730</td>\n",
       "      <td>1.872791e+06</td>\n",
       "      <td>215.3590</td>\n",
       "      <td>4287.87</td>\n",
       "      <td>102.0</td>\n",
       "      <td>27.0302</td>\n",
       "    </tr>\n",
       "    <tr>\n",
       "      <td>1</td>\n",
       "      <td>6.021</td>\n",
       "      <td>6191.96</td>\n",
       "      <td>1623.16</td>\n",
       "      <td>0.26213</td>\n",
       "      <td>53.3894</td>\n",
       "      <td>8.034467e+05</td>\n",
       "      <td>87.2024</td>\n",
       "      <td>3328.91</td>\n",
       "      <td>39.0</td>\n",
       "      <td>38.5468</td>\n",
       "    </tr>\n",
       "    <tr>\n",
       "      <td>2</td>\n",
       "      <td>9.275</td>\n",
       "      <td>7725.98</td>\n",
       "      <td>1726.28</td>\n",
       "      <td>0.22343</td>\n",
       "      <td>67.2887</td>\n",
       "      <td>1.075648e+06</td>\n",
       "      <td>81.7913</td>\n",
       "      <td>2981.04</td>\n",
       "      <td>29.0</td>\n",
       "      <td>38.8119</td>\n",
       "    </tr>\n",
       "    <tr>\n",
       "      <td>3</td>\n",
       "      <td>15.851</td>\n",
       "      <td>8424.58</td>\n",
       "      <td>2368.25</td>\n",
       "      <td>0.28111</td>\n",
       "      <td>67.8325</td>\n",
       "      <td>1.210472e+06</td>\n",
       "      <td>109.4390</td>\n",
       "      <td>3248.22</td>\n",
       "      <td>70.0</td>\n",
       "      <td>39.0651</td>\n",
       "    </tr>\n",
       "    <tr>\n",
       "      <td>4</td>\n",
       "      <td>7.962</td>\n",
       "      <td>7460.84</td>\n",
       "      <td>1736.94</td>\n",
       "      <td>0.23280</td>\n",
       "      <td>52.4123</td>\n",
       "      <td>1.021020e+06</td>\n",
       "      <td>94.5234</td>\n",
       "      <td>2814.42</td>\n",
       "      <td>41.0</td>\n",
       "      <td>39.9147</td>\n",
       "    </tr>\n",
       "  </tbody>\n",
       "</table>\n",
       "</div>"
      ],
      "text/plain": [
       "     RMSD        F1       F2       F3        F4            F5        F6  \\\n",
       "0  17.284  13558.30  4305.35  0.31754  162.1730  1.872791e+06  215.3590   \n",
       "1   6.021   6191.96  1623.16  0.26213   53.3894  8.034467e+05   87.2024   \n",
       "2   9.275   7725.98  1726.28  0.22343   67.2887  1.075648e+06   81.7913   \n",
       "3  15.851   8424.58  2368.25  0.28111   67.8325  1.210472e+06  109.4390   \n",
       "4   7.962   7460.84  1736.94  0.23280   52.4123  1.021020e+06   94.5234   \n",
       "\n",
       "        F7     F8       F9  \n",
       "0  4287.87  102.0  27.0302  \n",
       "1  3328.91   39.0  38.5468  \n",
       "2  2981.04   29.0  38.8119  \n",
       "3  3248.22   70.0  39.0651  \n",
       "4  2814.42   41.0  39.9147  "
      ]
     },
     "execution_count": 136,
     "metadata": {},
     "output_type": "execute_result"
    }
   ],
   "source": [
    "clean_data.head()"
   ]
  },
  {
   "cell_type": "code",
   "execution_count": 137,
   "metadata": {},
   "outputs": [],
   "source": [
    "#split the clean data into x and y\n",
    "x=clean_data.drop([\"RMSD\"], axis=1)\n",
    "y=clean_data[\"RMSD\"]"
   ]
  },
  {
   "cell_type": "code",
   "execution_count": 138,
   "metadata": {},
   "outputs": [
    {
     "name": "stdout",
     "output_type": "stream",
     "text": [
      "Shape of training set of X :  (35215, 9)\n",
      "Shape of testing set of X :  (8804, 9)\n",
      "Shape of training set of y :  (35215,)\n",
      "Shape of testing set of y :  (8804,)\n"
     ]
    }
   ],
   "source": [
    "#split the cleaned data set into 80% train set and 20% test set\n",
    "from sklearn.model_selection import train_test_split\n",
    "x_train,x_test,y_train,y_test=train_test_split(x,y,test_size=0.2,random_state=0)\n",
    "print(\"Shape of training set of X : \",x_train.shape)\n",
    "print(\"Shape of testing set of X : \",x_test.shape)\n",
    "print(\"Shape of training set of y : \",y_train.shape)\n",
    "print(\"Shape of testing set of y : \",y_test.shape)"
   ]
  },
  {
   "cell_type": "code",
   "execution_count": 139,
   "metadata": {},
   "outputs": [
    {
     "name": "stdout",
     "output_type": "stream",
     "text": [
      "Predicted value for the test set : \n",
      " [ 9.06226343 10.26398004  5.53943782 ...  7.84526728  5.707508\n",
      " 10.04766616]\n",
      "\n",
      "True Value for the test set : \n",
      " 24140     4.690\n",
      "21681     6.567\n",
      "28168     5.924\n",
      "9963      3.469\n",
      "2599      1.597\n",
      "          ...  \n",
      "41520     2.500\n",
      "22920     2.081\n",
      "21727    15.630\n",
      "42810     1.755\n",
      "26929    15.146\n",
      "Name: RMSD, Length: 8804, dtype: float64\n"
     ]
    }
   ],
   "source": [
    "#design a Linear regression model and fit the train value to learn\n",
    "from sklearn.linear_model import LinearRegression\n",
    "lrModel=LinearRegression()\n",
    "lrModel.fit(x_train,y_train)\n",
    "\n",
    "#predict the value for test set of x using our ML model\n",
    "lrPredict=lrModel.predict(x_test)\n",
    "print(\"Predicted value for the test set : \\n\",lrPredict)\n",
    "print(\"\\nTrue Value for the test set : \\n\",y_test)"
   ]
  },
  {
   "cell_type": "code",
   "execution_count": 140,
   "metadata": {},
   "outputs": [
    {
     "data": {
      "text/html": [
       "<div>\n",
       "<style scoped>\n",
       "    .dataframe tbody tr th:only-of-type {\n",
       "        vertical-align: middle;\n",
       "    }\n",
       "\n",
       "    .dataframe tbody tr th {\n",
       "        vertical-align: top;\n",
       "    }\n",
       "\n",
       "    .dataframe thead th {\n",
       "        text-align: right;\n",
       "    }\n",
       "</style>\n",
       "<table border=\"1\" class=\"dataframe\">\n",
       "  <thead>\n",
       "    <tr style=\"text-align: right;\">\n",
       "      <th></th>\n",
       "      <th>Predicted_Value</th>\n",
       "      <th>True_Value</th>\n",
       "    </tr>\n",
       "  </thead>\n",
       "  <tbody>\n",
       "    <tr>\n",
       "      <td>24140</td>\n",
       "      <td>9.062263</td>\n",
       "      <td>4.690</td>\n",
       "    </tr>\n",
       "    <tr>\n",
       "      <td>21681</td>\n",
       "      <td>10.263980</td>\n",
       "      <td>6.567</td>\n",
       "    </tr>\n",
       "    <tr>\n",
       "      <td>28168</td>\n",
       "      <td>5.539438</td>\n",
       "      <td>5.924</td>\n",
       "    </tr>\n",
       "    <tr>\n",
       "      <td>9963</td>\n",
       "      <td>8.058247</td>\n",
       "      <td>3.469</td>\n",
       "    </tr>\n",
       "    <tr>\n",
       "      <td>2599</td>\n",
       "      <td>3.480455</td>\n",
       "      <td>1.597</td>\n",
       "    </tr>\n",
       "  </tbody>\n",
       "</table>\n",
       "</div>"
      ],
      "text/plain": [
       "       Predicted_Value  True_Value\n",
       "24140         9.062263       4.690\n",
       "21681        10.263980       6.567\n",
       "28168         5.539438       5.924\n",
       "9963          8.058247       3.469\n",
       "2599          3.480455       1.597"
      ]
     },
     "execution_count": 140,
     "metadata": {},
     "output_type": "execute_result"
    }
   ],
   "source": [
    "#create a dataframe to assign the predicted value and test value to 2 column \n",
    "import pandas as pd\n",
    "table={\"Predicted_Value\":lrPredict,\"True_Value\":y_test}\n",
    "Table_data=pd.DataFrame(table)\n",
    "Table_data.head()"
   ]
  },
  {
   "cell_type": "code",
   "execution_count": 141,
   "metadata": {},
   "outputs": [
    {
     "data": {
      "text/plain": [
       "Text(0, 0.5, 'Test Value')"
      ]
     },
     "execution_count": 141,
     "metadata": {},
     "output_type": "execute_result"
    },
    {
     "data": {
      "image/png": "[encoded data removed]",
      "text/plain": [
       "<Figure size 432x288 with 1 Axes>"
      ]
     },
     "metadata": {
      "needs_background": "light"
     },
     "output_type": "display_data"
    }
   ],
   "source": [
    "#plot a scatter diagram to predicted value against true value\n",
    "import matplotlib.pyplot as plt\n",
    "plt.scatter(lrPredict,y_test,color='b')\n",
    "plt.xlabel(\"Predicted Value\")\n",
    "plt.ylabel(\"Test Value\")"
   ]
  },
  {
   "cell_type": "code",
   "execution_count": 142,
   "metadata": {},
   "outputs": [
    {
     "name": "stdout",
     "output_type": "stream",
     "text": [
      "Mean Absolute Error is :  4.3736381226466134\n",
      "Mean Squared Error is :  27.254043325502554\n",
      "Root Mean Squared Error is :  5.220540520434886\n"
     ]
    }
   ],
   "source": [
    "#evaluvate accuracy of the model\n",
    "from sklearn.metrics import mean_absolute_error, mean_squared_error\n",
    "from math import sqrt\n",
    "meanAbsoluteError=mean_absolute_error(y_test,lrPredict)\n",
    "meanSqrtError=mean_squared_error(y_test,lrPredict)\n",
    "rmse=sqrt(meanSqrtError)\n",
    "\n",
    "print(\"Mean Absolute Error is : \",meanAbsoluteError)\n",
    "print(\"Mean Squared Error is : \",meanSqrtError)\n",
    "print(\"Root Mean Squared Error is : \",rmse)"
   ]
  },
  {
   "cell_type": "code",
   "execution_count": 147,
   "metadata": {},
   "outputs": [],
   "source": [
    "#export the true value and predicted value as a csv\n",
    "Table_data.to_csv(\"C:\\\\Users\\\\2018e108\\Desktop\\\\Lab02_2018E108_EC9630\\\\ResultTable.csv\",)"
   ]
  },
  {
   "cell_type": "code",
   "execution_count": null,
   "metadata": {},
   "outputs": [],
   "source": []
  }
 ],
 "metadata": {
  "kernelspec": {
   "display_name": "Python 3",
   "language": "python",
   "name": "python3"
  },
  "language_info": {
   "codemirror_mode": {
    "name": "ipython",
    "version": 3
   },
   "file_extension": ".py",
   "mimetype": "text/x-python",
   "name": "python",
   "nbconvert_exporter": "python",
   "pygments_lexer": "ipython3",
   "version": "3.7.4"
  }
 },
 "nbformat": 4,
 "nbformat_minor": 2
}
